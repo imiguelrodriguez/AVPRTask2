{
 "cells": [
  {
   "cell_type": "markdown",
   "id": "8d5d76bcb5a281ac",
   "metadata": {},
   "source": [
    "# Action Recognition with Custom CNN"
   ]
  },
  {
   "cell_type": "code",
   "id": "initial_id",
   "metadata": {
    "collapsed": true,
    "jupyter": {
     "outputs_hidden": true
    },
    "ExecuteTime": {
     "end_time": "2025-01-24T10:04:49.335234Z",
     "start_time": "2025-01-24T10:04:38.344632Z"
    }
   },
   "source": [
    "from torch.utils.data import DataLoader\n",
    "from main import Stanford40Dataset\n",
    "from torchvision import transforms\n",
    "import torch"
   ],
   "outputs": [],
   "execution_count": 1
  },
  {
   "cell_type": "markdown",
   "id": "170cb7222b28db79",
   "metadata": {},
   "source": [
    "## Prepare image transformation and constants"
   ]
  },
  {
   "cell_type": "code",
   "id": "a83debd373804b07",
   "metadata": {
    "ExecuteTime": {
     "end_time": "2025-01-24T10:04:51.162075Z",
     "start_time": "2025-01-24T10:04:50.977724Z"
    }
   },
   "source": [
    "# Transforms and constant definition\n",
    "# Define transformations (resize, normalization, etc.)\n",
    "transform = transforms.Compose([\n",
    "    transforms.RandomResizedCrop(224),\n",
    "    transforms.RandomHorizontalFlip(),\n",
    "    transforms.RandomApply([\n",
    "        transforms.ColorJitter(0.4, 0.4, 0.4, 0.1)], p=0.8\n",
    "    ),\n",
    "    transforms.RandomGrayscale(0.2),\n",
    "    transforms.ToTensor(),\n",
    "    transforms.Normalize((0.4914, 0.4822, 0.4465), (0.2023, 0.1994, 0.2010)),\n",
    "])\n",
    "\n",
    "# Paths to the image directory (data/train and data/test)\n",
    "data_dir = 'data'\n",
    "LR = 1e-3\n",
    "BATCH_SIZE = 196\n",
    "EPOCHS = 50\n",
    "TRAIN_SPLIT = 0.75\n",
    "VAL_SPLIT = 1 - TRAIN_SPLIT\n",
    "\n",
    "device = torch.device(\"cuda\" if torch.cuda.is_available() else \"cpu\")\n",
    "print(f\"Using device: {device}\")"
   ],
   "outputs": [
    {
     "name": "stdout",
     "output_type": "stream",
     "text": [
      "Using device: cuda\n"
     ]
    }
   ],
   "execution_count": 2
  },
  {
   "cell_type": "markdown",
   "id": "68627b6091677ef0",
   "metadata": {},
   "source": [
    "## Load dataset"
   ]
  },
  {
   "cell_type": "code",
   "id": "788b7654164b6a82",
   "metadata": {
    "ExecuteTime": {
     "end_time": "2025-01-24T10:04:54.511856Z",
     "start_time": "2025-01-24T10:04:53.944615Z"
    }
   },
   "source": [
    "from torch.utils.data import random_split\n",
    "\n",
    "# Instantiate the dataset and data loaders\n",
    "train_dataset = Stanford40Dataset(data_dir=data_dir, split='train', transform=transform)\n",
    "test_dataset = Stanford40Dataset(data_dir=data_dir, split='test', transform=transform)\n",
    "\n",
    "numTrainSamples = int(len(train_dataset) * TRAIN_SPLIT)\n",
    "numValSamples = int(len(train_dataset) * VAL_SPLIT)\n",
    "(trainData, valData) = random_split(train_dataset,\n",
    "                                    [numTrainSamples, numValSamples],\n",
    "                                    generator=torch.Generator().manual_seed(42))\n",
    "\n",
    "train_loader = DataLoader(trainData, batch_size=BATCH_SIZE, shuffle=True)\n",
    "test_loader = DataLoader(test_dataset, batch_size=BATCH_SIZE, shuffle=False)\n",
    "val_loader = DataLoader(valData, batch_size=BATCH_SIZE)\n"
   ],
   "outputs": [
    {
     "name": "stdout",
     "output_type": "stream",
     "text": [
      "Loaded 4000 images from train split.\n",
      "Loaded 5532 images from test split.\n"
     ]
    }
   ],
   "execution_count": 3
  },
  {
   "cell_type": "markdown",
   "id": "f65cf217bf60499a",
   "metadata": {},
   "source": [
    "## Instantiate Custom CNN model"
   ]
  },
  {
   "cell_type": "code",
   "execution_count": null,
   "id": "d1356f503702b568",
   "metadata": {},
   "outputs": [],
   "source": [
    "from CustomCNN import CustomCNN\n",
    "from torch import optim, nn\n",
    "\n",
    "# Create an instance of the model class and allocate it to the device\n",
    "model = CustomCNN(num_classes=40).to(device)\n",
    "\n",
    "print(model)\n",
    "\n",
    "optimizer = optim.Adam(model.parameters(), lr=LR)\n",
    "loss_criteria = nn.CrossEntropyLoss()\n"
   ]
  },
  {
   "cell_type": "markdown",
   "id": "30def57912918c",
   "metadata": {},
   "source": [
    "## Training loop"
   ]
  },
  {
   "cell_type": "code",
   "execution_count": null,
   "id": "e192746cda557deb",
   "metadata": {},
   "outputs": [],
   "source": [
    "from TrainTestUtils import train, validate, plot_loss\n",
    "\n",
    "epoch_nums = []\n",
    "training_loss = []\n",
    "validation_loss = []\n",
    "\n",
    "for epoch in range(1, EPOCHS + 1):\n",
    "    print(f\"Epoch {epoch}/{EPOCHS}\")\n",
    "    # Call the train function\n",
    "    train_loss = train(model, device, loss_criteria, train_loader, optimizer, epoch)\n",
    "    # Call the validation function\n",
    "    val_loss = validate(model, device, loss_criteria, val_loader)\n",
    "\n",
    "    # Track losses and epochs\n",
    "    epoch_nums.append(epoch)\n",
    "    training_loss.append(train_loss)\n",
    "    validation_loss.append(val_loss)\n",
    "    \n",
    "plot_loss(epoch_nums, training_loss, validation_loss)"
   ]
  },
  {
   "cell_type": "markdown",
   "id": "4356e6f893985d76",
   "metadata": {},
   "source": [
    "## Testing (performing predictions)"
   ]
  },
  {
   "cell_type": "code",
   "execution_count": null,
   "id": "1cf7bd4e27f5e216",
   "metadata": {},
   "outputs": [],
   "source": [
    "from TrainTestUtils import make_predictions, compute_accuracy\n",
    "\n",
    "print(\"Getting predictions from test set...\")\n",
    "truelabels, predictions = make_predictions(model, test_loader, device)\n",
    "\n",
    "accuracy = compute_accuracy(truelabels, predictions)\n",
    "print(f\"Test Set Accuracy: {accuracy:.2f}%\")"
   ]
  },
  {
   "cell_type": "markdown",
   "id": "cfe48538745dd8f7",
   "metadata": {},
   "source": [
    "# Exploration of hyperparameters with GridSearch"
   ]
  },
  {
   "cell_type": "code",
   "id": "bb61e9405ec87ad3",
   "metadata": {
    "jupyter": {
     "is_executing": true
    },
    "ExecuteTime": {
     "start_time": "2025-01-24T10:05:15.354367Z"
    }
   },
   "source": [
    "import itertools\n",
    "from CustomCNN import CustomCNN\n",
    "from TrainTestUtils import train, validate, make_predictions, compute_accuracy\n",
    "import torch.optim as optim\n",
    "import torch.nn as nn\n",
    "# Parameter grid for grid search\n",
    "\n",
    "param_grid = {\n",
    "    'num_layers': [2, 3, 4],\n",
    "    'base_filters': [12, 24, 48],\n",
    "    'kernel_size': [3, 5],\n",
    "    'pool_size': [2, 3],\n",
    "    'lr': [0.001, 0.0001],\n",
    "    'epochs': [15]\n",
    "}\n",
    "\n",
    "param_combinations = list(itertools.product(*param_grid.values()))\n",
    "\n",
    "print(f\"Testing {len(param_combinations)} parameter combinations...\")\n",
    "\n",
    "# Perform grid search\n",
    "best_params = None\n",
    "best_accuracy = 0.0\n",
    "\n",
    "for i, params in enumerate(param_combinations):\n",
    "    num_layers, base_filters, kernel_size, pool_size, lr, epochs = params\n",
    "\n",
    "    print(f\"Testing combination {i + 1}/{len(param_combinations)}: {params}\")\n",
    "\n",
    "    model = CustomCNN(\n",
    "        num_classes=40,\n",
    "        num_layers=num_layers,\n",
    "        base_filters=base_filters,\n",
    "        kernel_size=kernel_size,\n",
    "        pool_size=pool_size,\n",
    "    ).to(device)\n",
    "\n",
    "    optimizer = optim.Adam(model.parameters(), lr=lr)\n",
    "    loss_criteria = nn.CrossEntropyLoss()\n",
    "\n",
    "    for epoch in range(epochs):\n",
    "        train_loss = train(model, device, loss_criteria, train_loader, optimizer, epoch)\n",
    "        test_loss = validate(model, device, loss_criteria, val_loader)\n",
    "\n",
    "    truelabels, predictions = make_predictions(model, val_loader, device)\n",
    "    accuracy = compute_accuracy(truelabels, predictions)\n",
    "\n",
    "    print(f\"Validation Accuracy: {accuracy:.4f}\")\n",
    "\n",
    "    if accuracy > best_accuracy:\n",
    "        best_accuracy = accuracy\n",
    "        best_params = params\n",
    "\n",
    "print(f\"Best Parameters: {best_params}\")\n",
    "print(f\"Best Accuracy: {best_accuracy:.4f}\")"
   ],
   "outputs": [
    {
     "name": "stdout",
     "output_type": "stream",
     "text": [
      "Testing 72 parameter combinations...\n",
      "Testing combination 1/72: (2, 12, 3, 2, 0.001, 15)\n",
      "Epoch: 0\n"
     ]
    },
    {
     "name": "stderr",
     "output_type": "stream",
     "text": [
      "Epoch 0:  88%|████████▊ | 14/16 [00:16<00:02,  1.09s/it, loss=3.79]"
     ]
    }
   ],
   "execution_count": null
  },
  {
   "cell_type": "code",
   "execution_count": null,
   "id": "aa8258d3d6752cb6",
   "metadata": {},
   "outputs": [],
   "source": []
  }
 ],
 "metadata": {
  "kernelspec": {
   "display_name": "Python 3 (ipykernel)",
   "language": "python",
   "name": "python3"
  },
  "language_info": {
   "codemirror_mode": {
    "name": "ipython",
    "version": 3
   },
   "file_extension": ".py",
   "mimetype": "text/x-python",
   "name": "python",
   "nbconvert_exporter": "python",
   "pygments_lexer": "ipython3",
   "version": "3.12.7"
  }
 },
 "nbformat": 4,
 "nbformat_minor": 5
}
