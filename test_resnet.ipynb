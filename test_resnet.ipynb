{
 "cells": [
  {
   "metadata": {},
   "cell_type": "markdown",
   "source": "# Action Recognition with ResNet",
   "id": "8d5d76bcb5a281ac"
  },
  {
   "metadata": {
    "collapsed": true,
    "ExecuteTime": {
     "end_time": "2025-01-24T10:21:21.662829Z",
     "start_time": "2025-01-24T10:21:18.601796Z"
    }
   },
   "cell_type": "code",
   "source": [
    "from torch.utils.data import DataLoader\n",
    "from main import Stanford40Dataset\n",
    "from torchvision import transforms\n",
    "import torch"
   ],
   "id": "initial_id",
   "outputs": [],
   "execution_count": 1
  },
  {
   "metadata": {},
   "cell_type": "markdown",
   "source": "## Prepare image transformation and constants",
   "id": "170cb7222b28db79"
  },
  {
   "metadata": {
    "ExecuteTime": {
     "end_time": "2025-01-24T10:21:23.510522Z",
     "start_time": "2025-01-24T10:21:23.481971Z"
    }
   },
   "cell_type": "code",
   "source": [
    "# Transforms and constant definition\n",
    "# Define transformations (resize, normalization, etc.)\n",
    "transform = transforms.Compose([\n",
    "    transforms.RandomResizedCrop(224),\n",
    "    transforms.RandomHorizontalFlip(),\n",
    "    transforms.RandomApply([\n",
    "        transforms.ColorJitter(0.4, 0.4, 0.4, 0.1)], p=0.8\n",
    "    ),\n",
    "    transforms.RandomGrayscale(0.2),\n",
    "    transforms.ToTensor(),\n",
    "    transforms.Normalize((0.4914, 0.4822, 0.4465), (0.2023, 0.1994, 0.2010)),\n",
    "])\n",
    "\n",
    "# Paths to the image directory (data/train and data/test)\n",
    "data_dir = 'data'\n",
    "LR = 1e-3\n",
    "BATCH_SIZE = 196\n",
    "EPOCHS = 25\n",
    "TRAIN_SPLIT = 0.75\n",
    "VAL_SPLIT = 1 - TRAIN_SPLIT\n",
    "\n",
    "device = torch.device(\"cuda\" if torch.cuda.is_available() else \"cpu\")\n",
    "print(f\"Using device: {device}\")"
   ],
   "id": "a83debd373804b07",
   "outputs": [
    {
     "name": "stdout",
     "output_type": "stream",
     "text": [
      "Using device: cuda\n"
     ]
    }
   ],
   "execution_count": 2
  },
  {
   "metadata": {},
   "cell_type": "markdown",
   "source": "## Load dataset",
   "id": "68627b6091677ef0"
  },
  {
   "metadata": {
    "ExecuteTime": {
     "end_time": "2025-01-24T10:21:30.819259Z",
     "start_time": "2025-01-24T10:21:30.636021Z"
    }
   },
   "cell_type": "code",
   "source": [
    "from torch.utils.data import random_split\n",
    "\n",
    "# Instantiate the dataset and data loaders\n",
    "train_dataset = Stanford40Dataset(data_dir=data_dir, split='train', transform=transform)\n",
    "test_dataset = Stanford40Dataset(data_dir=data_dir, split='test', transform=transform)\n",
    "\n",
    "numTrainSamples = int(len(train_dataset) * TRAIN_SPLIT)\n",
    "numValSamples = int(len(train_dataset) * VAL_SPLIT)\n",
    "(trainData, valData) = random_split(train_dataset,\n",
    "                                    [numTrainSamples, numValSamples],\n",
    "                                    generator=torch.Generator().manual_seed(42))\n",
    "\n",
    "train_loader = DataLoader(trainData, batch_size=BATCH_SIZE, shuffle=True)\n",
    "test_loader = DataLoader(test_dataset, batch_size=BATCH_SIZE, shuffle=False)\n",
    "val_loader = DataLoader(valData, batch_size=BATCH_SIZE)\n"
   ],
   "id": "788b7654164b6a82",
   "outputs": [
    {
     "name": "stdout",
     "output_type": "stream",
     "text": [
      "Loaded 4000 images from train split.\n",
      "Loaded 5532 images from test split.\n"
     ]
    }
   ],
   "execution_count": 3
  },
  {
   "metadata": {},
   "cell_type": "markdown",
   "source": "## Instantiate ResNet model",
   "id": "f65cf217bf60499a"
  },
  {
   "metadata": {
    "ExecuteTime": {
     "end_time": "2025-01-24T10:21:37.399412Z",
     "start_time": "2025-01-24T10:21:36.771750Z"
    }
   },
   "cell_type": "code",
   "source": [
    "from torch import optim, nn\n",
    "from CustomResNet import CustomResNet\n",
    "\n",
    "#Define model\n",
    "# Create an instance of the model class and allocate it to the device\n",
    "model = CustomResNet().to(device)\n",
    "\n",
    "print(model)\n",
    "\n",
    "optimizer = optim.Adam(model.parameters(), lr=LR)\n",
    "loss_criteria = nn.CrossEntropyLoss()\n"
   ],
   "id": "d1356f503702b568",
   "outputs": [
    {
     "name": "stderr",
     "output_type": "stream",
     "text": [
      "C:\\Users\\User\\Desktop\\NACHO\\UNI\\MASTER\\AVPR\\Assignment 2\\imageClassifier\\.venv\\Lib\\site-packages\\torchvision\\models\\_utils.py:208: UserWarning: The parameter 'pretrained' is deprecated since 0.13 and may be removed in the future, please use 'weights' instead.\n",
      "  warnings.warn(\n",
      "C:\\Users\\User\\Desktop\\NACHO\\UNI\\MASTER\\AVPR\\Assignment 2\\imageClassifier\\.venv\\Lib\\site-packages\\torchvision\\models\\_utils.py:223: UserWarning: Arguments other than a weight enum or `None` for 'weights' are deprecated since 0.13 and may be removed in the future. The current behavior is equivalent to passing `weights=ResNet18_Weights.IMAGENET1K_V1`. You can also use `weights=ResNet18_Weights.DEFAULT` to get the most up-to-date weights.\n",
      "  warnings.warn(msg)\n"
     ]
    },
    {
     "name": "stdout",
     "output_type": "stream",
     "text": [
      "CustomResNet(\n",
      "  (resnet): ResNet(\n",
      "    (conv1): Conv2d(3, 64, kernel_size=(7, 7), stride=(2, 2), padding=(3, 3), bias=False)\n",
      "    (bn1): BatchNorm2d(64, eps=1e-05, momentum=0.1, affine=True, track_running_stats=True)\n",
      "    (relu): ReLU(inplace=True)\n",
      "    (maxpool): MaxPool2d(kernel_size=3, stride=2, padding=1, dilation=1, ceil_mode=False)\n",
      "    (layer1): Sequential(\n",
      "      (0): BasicBlock(\n",
      "        (conv1): Conv2d(64, 64, kernel_size=(3, 3), stride=(1, 1), padding=(1, 1), bias=False)\n",
      "        (bn1): BatchNorm2d(64, eps=1e-05, momentum=0.1, affine=True, track_running_stats=True)\n",
      "        (relu): ReLU(inplace=True)\n",
      "        (conv2): Conv2d(64, 64, kernel_size=(3, 3), stride=(1, 1), padding=(1, 1), bias=False)\n",
      "        (bn2): BatchNorm2d(64, eps=1e-05, momentum=0.1, affine=True, track_running_stats=True)\n",
      "      )\n",
      "      (1): BasicBlock(\n",
      "        (conv1): Conv2d(64, 64, kernel_size=(3, 3), stride=(1, 1), padding=(1, 1), bias=False)\n",
      "        (bn1): BatchNorm2d(64, eps=1e-05, momentum=0.1, affine=True, track_running_stats=True)\n",
      "        (relu): ReLU(inplace=True)\n",
      "        (conv2): Conv2d(64, 64, kernel_size=(3, 3), stride=(1, 1), padding=(1, 1), bias=False)\n",
      "        (bn2): BatchNorm2d(64, eps=1e-05, momentum=0.1, affine=True, track_running_stats=True)\n",
      "      )\n",
      "    )\n",
      "    (layer2): Sequential(\n",
      "      (0): BasicBlock(\n",
      "        (conv1): Conv2d(64, 128, kernel_size=(3, 3), stride=(2, 2), padding=(1, 1), bias=False)\n",
      "        (bn1): BatchNorm2d(128, eps=1e-05, momentum=0.1, affine=True, track_running_stats=True)\n",
      "        (relu): ReLU(inplace=True)\n",
      "        (conv2): Conv2d(128, 128, kernel_size=(3, 3), stride=(1, 1), padding=(1, 1), bias=False)\n",
      "        (bn2): BatchNorm2d(128, eps=1e-05, momentum=0.1, affine=True, track_running_stats=True)\n",
      "        (downsample): Sequential(\n",
      "          (0): Conv2d(64, 128, kernel_size=(1, 1), stride=(2, 2), bias=False)\n",
      "          (1): BatchNorm2d(128, eps=1e-05, momentum=0.1, affine=True, track_running_stats=True)\n",
      "        )\n",
      "      )\n",
      "      (1): BasicBlock(\n",
      "        (conv1): Conv2d(128, 128, kernel_size=(3, 3), stride=(1, 1), padding=(1, 1), bias=False)\n",
      "        (bn1): BatchNorm2d(128, eps=1e-05, momentum=0.1, affine=True, track_running_stats=True)\n",
      "        (relu): ReLU(inplace=True)\n",
      "        (conv2): Conv2d(128, 128, kernel_size=(3, 3), stride=(1, 1), padding=(1, 1), bias=False)\n",
      "        (bn2): BatchNorm2d(128, eps=1e-05, momentum=0.1, affine=True, track_running_stats=True)\n",
      "      )\n",
      "    )\n",
      "    (layer3): Sequential(\n",
      "      (0): BasicBlock(\n",
      "        (conv1): Conv2d(128, 256, kernel_size=(3, 3), stride=(2, 2), padding=(1, 1), bias=False)\n",
      "        (bn1): BatchNorm2d(256, eps=1e-05, momentum=0.1, affine=True, track_running_stats=True)\n",
      "        (relu): ReLU(inplace=True)\n",
      "        (conv2): Conv2d(256, 256, kernel_size=(3, 3), stride=(1, 1), padding=(1, 1), bias=False)\n",
      "        (bn2): BatchNorm2d(256, eps=1e-05, momentum=0.1, affine=True, track_running_stats=True)\n",
      "        (downsample): Sequential(\n",
      "          (0): Conv2d(128, 256, kernel_size=(1, 1), stride=(2, 2), bias=False)\n",
      "          (1): BatchNorm2d(256, eps=1e-05, momentum=0.1, affine=True, track_running_stats=True)\n",
      "        )\n",
      "      )\n",
      "      (1): BasicBlock(\n",
      "        (conv1): Conv2d(256, 256, kernel_size=(3, 3), stride=(1, 1), padding=(1, 1), bias=False)\n",
      "        (bn1): BatchNorm2d(256, eps=1e-05, momentum=0.1, affine=True, track_running_stats=True)\n",
      "        (relu): ReLU(inplace=True)\n",
      "        (conv2): Conv2d(256, 256, kernel_size=(3, 3), stride=(1, 1), padding=(1, 1), bias=False)\n",
      "        (bn2): BatchNorm2d(256, eps=1e-05, momentum=0.1, affine=True, track_running_stats=True)\n",
      "      )\n",
      "    )\n",
      "    (layer4): Sequential(\n",
      "      (0): BasicBlock(\n",
      "        (conv1): Conv2d(256, 512, kernel_size=(3, 3), stride=(2, 2), padding=(1, 1), bias=False)\n",
      "        (bn1): BatchNorm2d(512, eps=1e-05, momentum=0.1, affine=True, track_running_stats=True)\n",
      "        (relu): ReLU(inplace=True)\n",
      "        (conv2): Conv2d(512, 512, kernel_size=(3, 3), stride=(1, 1), padding=(1, 1), bias=False)\n",
      "        (bn2): BatchNorm2d(512, eps=1e-05, momentum=0.1, affine=True, track_running_stats=True)\n",
      "        (downsample): Sequential(\n",
      "          (0): Conv2d(256, 512, kernel_size=(1, 1), stride=(2, 2), bias=False)\n",
      "          (1): BatchNorm2d(512, eps=1e-05, momentum=0.1, affine=True, track_running_stats=True)\n",
      "        )\n",
      "      )\n",
      "      (1): BasicBlock(\n",
      "        (conv1): Conv2d(512, 512, kernel_size=(3, 3), stride=(1, 1), padding=(1, 1), bias=False)\n",
      "        (bn1): BatchNorm2d(512, eps=1e-05, momentum=0.1, affine=True, track_running_stats=True)\n",
      "        (relu): ReLU(inplace=True)\n",
      "        (conv2): Conv2d(512, 512, kernel_size=(3, 3), stride=(1, 1), padding=(1, 1), bias=False)\n",
      "        (bn2): BatchNorm2d(512, eps=1e-05, momentum=0.1, affine=True, track_running_stats=True)\n",
      "      )\n",
      "    )\n",
      "    (avgpool): AdaptiveAvgPool2d(output_size=(1, 1))\n",
      "    (fc): Linear(in_features=512, out_features=40, bias=True)\n",
      "  )\n",
      ")\n"
     ]
    }
   ],
   "execution_count": 4
  },
  {
   "metadata": {},
   "cell_type": "markdown",
   "source": "## Training loop",
   "id": "30def57912918c"
  },
  {
   "metadata": {
    "ExecuteTime": {
     "end_time": "2025-01-24T11:19:49.093543Z",
     "start_time": "2025-01-24T10:21:59.715278Z"
    }
   },
   "cell_type": "code",
   "source": [
    "from TrainTestUtils import train, validate, plot_loss\n",
    "\n",
    "epoch_nums = []\n",
    "training_loss = []\n",
    "validation_loss = []\n",
    "\n",
    "for epoch in range(1, EPOCHS + 1):\n",
    "    print(f\"Epoch {epoch}/{EPOCHS}\")\n",
    "    # Call the train function\n",
    "    train_loss = train(model, device, loss_criteria, train_loader, optimizer, epoch)\n",
    "    # Call the validation function\n",
    "    val_loss = validate(model, device, loss_criteria, val_loader)\n",
    "\n",
    "    # Track losses and epochs\n",
    "    epoch_nums.append(epoch)\n",
    "    training_loss.append(train_loss)\n",
    "    validation_loss.append(val_loss)\n",
    "    \n",
    "plot_loss(epoch_nums, training_loss, validation_loss)"
   ],
   "id": "e192746cda557deb",
   "outputs": [
    {
     "name": "stdout",
     "output_type": "stream",
     "text": [
      "Epoch 1/25\n",
      "Epoch: 1\n"
     ]
    },
    {
     "name": "stderr",
     "output_type": "stream",
     "text": [
      "Epoch 1: 100%|██████████| 16/16 [01:49<00:00,  6.86s/it, loss=3.37]\n"
     ]
    },
    {
     "name": "stdout",
     "output_type": "stream",
     "text": [
      "Training set: Average loss: 3.503114\n",
      "Validation set: Average loss: 4.222931, Accuracy: 64/1000 (6%)\n",
      "\n",
      "Epoch 2/25\n",
      "Epoch: 2\n"
     ]
    },
    {
     "name": "stderr",
     "output_type": "stream",
     "text": [
      "Epoch 2: 100%|██████████| 16/16 [01:41<00:00,  6.35s/it, loss=3]   \n"
     ]
    },
    {
     "name": "stdout",
     "output_type": "stream",
     "text": [
      "Training set: Average loss: 3.126048\n",
      "Validation set: Average loss: 3.555016, Accuracy: 135/1000 (14%)\n",
      "\n",
      "Epoch 3/25\n",
      "Epoch: 3\n"
     ]
    },
    {
     "name": "stderr",
     "output_type": "stream",
     "text": [
      "Epoch 3: 100%|██████████| 16/16 [01:44<00:00,  6.56s/it, loss=2.57]\n"
     ]
    },
    {
     "name": "stdout",
     "output_type": "stream",
     "text": [
      "Training set: Average loss: 2.872723\n",
      "Validation set: Average loss: 3.411521, Accuracy: 169/1000 (17%)\n",
      "\n",
      "Epoch 4/25\n",
      "Epoch: 4\n"
     ]
    },
    {
     "name": "stderr",
     "output_type": "stream",
     "text": [
      "Epoch 4: 100%|██████████| 16/16 [01:49<00:00,  6.82s/it, loss=2.48]\n"
     ]
    },
    {
     "name": "stdout",
     "output_type": "stream",
     "text": [
      "Training set: Average loss: 2.671909\n",
      "Validation set: Average loss: 3.815518, Accuracy: 136/1000 (14%)\n",
      "\n",
      "Epoch 5/25\n",
      "Epoch: 5\n"
     ]
    },
    {
     "name": "stderr",
     "output_type": "stream",
     "text": [
      "Epoch 5: 100%|██████████| 16/16 [01:49<00:00,  6.85s/it, loss=2.71]\n"
     ]
    },
    {
     "name": "stdout",
     "output_type": "stream",
     "text": [
      "Training set: Average loss: 2.537935\n",
      "Validation set: Average loss: 3.277032, Accuracy: 192/1000 (19%)\n",
      "\n",
      "Epoch 6/25\n",
      "Epoch: 6\n"
     ]
    },
    {
     "name": "stderr",
     "output_type": "stream",
     "text": [
      "Epoch 6: 100%|██████████| 16/16 [01:46<00:00,  6.68s/it, loss=2.22]\n"
     ]
    },
    {
     "name": "stdout",
     "output_type": "stream",
     "text": [
      "Training set: Average loss: 2.391242\n",
      "Validation set: Average loss: 2.749348, Accuracy: 250/1000 (25%)\n",
      "\n",
      "Epoch 7/25\n",
      "Epoch: 7\n"
     ]
    },
    {
     "name": "stderr",
     "output_type": "stream",
     "text": [
      "Epoch 7: 100%|██████████| 16/16 [01:49<00:00,  6.83s/it, loss=2.57]\n"
     ]
    },
    {
     "name": "stdout",
     "output_type": "stream",
     "text": [
      "Training set: Average loss: 2.285813\n",
      "Validation set: Average loss: 2.804768, Accuracy: 251/1000 (25%)\n",
      "\n",
      "Epoch 8/25\n",
      "Epoch: 8\n"
     ]
    },
    {
     "name": "stderr",
     "output_type": "stream",
     "text": [
      "Epoch 8: 100%|██████████| 16/16 [01:44<00:00,  6.56s/it, loss=1.99]\n"
     ]
    },
    {
     "name": "stdout",
     "output_type": "stream",
     "text": [
      "Training set: Average loss: 2.154814\n",
      "Validation set: Average loss: 3.102586, Accuracy: 224/1000 (22%)\n",
      "\n",
      "Epoch 9/25\n",
      "Epoch: 9\n"
     ]
    },
    {
     "name": "stderr",
     "output_type": "stream",
     "text": [
      "Epoch 9: 100%|██████████| 16/16 [01:45<00:00,  6.61s/it, loss=1.95]\n"
     ]
    },
    {
     "name": "stdout",
     "output_type": "stream",
     "text": [
      "Training set: Average loss: 2.071095\n",
      "Validation set: Average loss: 2.862027, Accuracy: 275/1000 (28%)\n",
      "\n",
      "Epoch 10/25\n",
      "Epoch: 10\n"
     ]
    },
    {
     "name": "stderr",
     "output_type": "stream",
     "text": [
      "Epoch 10: 100%|██████████| 16/16 [01:47<00:00,  6.69s/it, loss=2.11]\n"
     ]
    },
    {
     "name": "stdout",
     "output_type": "stream",
     "text": [
      "Training set: Average loss: 1.950004\n",
      "Validation set: Average loss: 2.811796, Accuracy: 293/1000 (29%)\n",
      "\n",
      "Epoch 11/25\n",
      "Epoch: 11\n"
     ]
    },
    {
     "name": "stderr",
     "output_type": "stream",
     "text": [
      "Epoch 11: 100%|██████████| 16/16 [01:45<00:00,  6.62s/it, loss=1.62]\n"
     ]
    },
    {
     "name": "stdout",
     "output_type": "stream",
     "text": [
      "Training set: Average loss: 1.861230\n",
      "Validation set: Average loss: 2.887288, Accuracy: 287/1000 (29%)\n",
      "\n",
      "Epoch 12/25\n",
      "Epoch: 12\n"
     ]
    },
    {
     "name": "stderr",
     "output_type": "stream",
     "text": [
      "Epoch 12: 100%|██████████| 16/16 [01:47<00:00,  6.70s/it, loss=2.02]\n"
     ]
    },
    {
     "name": "stdout",
     "output_type": "stream",
     "text": [
      "Training set: Average loss: 1.799866\n",
      "Validation set: Average loss: 2.737565, Accuracy: 327/1000 (33%)\n",
      "\n",
      "Epoch 13/25\n",
      "Epoch: 13\n"
     ]
    },
    {
     "name": "stderr",
     "output_type": "stream",
     "text": [
      "Epoch 13: 100%|██████████| 16/16 [01:49<00:00,  6.87s/it, loss=1.89]\n"
     ]
    },
    {
     "name": "stdout",
     "output_type": "stream",
     "text": [
      "Training set: Average loss: 1.715259\n",
      "Validation set: Average loss: 2.652023, Accuracy: 317/1000 (32%)\n",
      "\n",
      "Epoch 14/25\n",
      "Epoch: 14\n"
     ]
    },
    {
     "name": "stderr",
     "output_type": "stream",
     "text": [
      "Epoch 14: 100%|██████████| 16/16 [02:01<00:00,  7.59s/it, loss=1.62]\n"
     ]
    },
    {
     "name": "stdout",
     "output_type": "stream",
     "text": [
      "Training set: Average loss: 1.636475\n",
      "Validation set: Average loss: 2.806637, Accuracy: 329/1000 (33%)\n",
      "\n",
      "Epoch 15/25\n",
      "Epoch: 15\n"
     ]
    },
    {
     "name": "stderr",
     "output_type": "stream",
     "text": [
      "Epoch 15: 100%|██████████| 16/16 [02:33<00:00,  9.59s/it, loss=1.48]\n"
     ]
    },
    {
     "name": "stdout",
     "output_type": "stream",
     "text": [
      "Training set: Average loss: 1.546565\n",
      "Validation set: Average loss: 2.759647, Accuracy: 314/1000 (31%)\n",
      "\n",
      "Epoch 16/25\n",
      "Epoch: 16\n"
     ]
    },
    {
     "name": "stderr",
     "output_type": "stream",
     "text": [
      "Epoch 16: 100%|██████████| 16/16 [02:33<00:00,  9.61s/it, loss=1.31]\n"
     ]
    },
    {
     "name": "stdout",
     "output_type": "stream",
     "text": [
      "Training set: Average loss: 1.487590\n",
      "Validation set: Average loss: 2.655281, Accuracy: 334/1000 (33%)\n",
      "\n",
      "Epoch 17/25\n",
      "Epoch: 17\n"
     ]
    },
    {
     "name": "stderr",
     "output_type": "stream",
     "text": [
      "Epoch 17: 100%|██████████| 16/16 [02:29<00:00,  9.35s/it, loss=1.44]\n"
     ]
    },
    {
     "name": "stdout",
     "output_type": "stream",
     "text": [
      "Training set: Average loss: 1.470748\n",
      "Validation set: Average loss: 2.495661, Accuracy: 349/1000 (35%)\n",
      "\n",
      "Epoch 18/25\n",
      "Epoch: 18\n"
     ]
    },
    {
     "name": "stderr",
     "output_type": "stream",
     "text": [
      "Epoch 18: 100%|██████████| 16/16 [02:29<00:00,  9.37s/it, loss=1.37]\n"
     ]
    },
    {
     "name": "stdout",
     "output_type": "stream",
     "text": [
      "Training set: Average loss: 1.385672\n",
      "Validation set: Average loss: 2.686236, Accuracy: 308/1000 (31%)\n",
      "\n",
      "Epoch 19/25\n",
      "Epoch: 19\n"
     ]
    },
    {
     "name": "stderr",
     "output_type": "stream",
     "text": [
      "Epoch 19: 100%|██████████| 16/16 [02:31<00:00,  9.49s/it, loss=1.42]\n"
     ]
    },
    {
     "name": "stdout",
     "output_type": "stream",
     "text": [
      "Training set: Average loss: 1.337333\n",
      "Validation set: Average loss: 2.834504, Accuracy: 339/1000 (34%)\n",
      "\n",
      "Epoch 20/25\n",
      "Epoch: 20\n"
     ]
    },
    {
     "name": "stderr",
     "output_type": "stream",
     "text": [
      "Epoch 20: 100%|██████████| 16/16 [02:33<00:00,  9.59s/it, loss=1.54]\n"
     ]
    },
    {
     "name": "stdout",
     "output_type": "stream",
     "text": [
      "Training set: Average loss: 1.314526\n",
      "Validation set: Average loss: 2.572985, Accuracy: 339/1000 (34%)\n",
      "\n",
      "Epoch 21/25\n",
      "Epoch: 21\n"
     ]
    },
    {
     "name": "stderr",
     "output_type": "stream",
     "text": [
      "Epoch 21: 100%|██████████| 16/16 [02:31<00:00,  9.47s/it, loss=1.3] \n"
     ]
    },
    {
     "name": "stdout",
     "output_type": "stream",
     "text": [
      "Training set: Average loss: 1.254583\n",
      "Validation set: Average loss: 2.801789, Accuracy: 321/1000 (32%)\n",
      "\n",
      "Epoch 22/25\n",
      "Epoch: 22\n"
     ]
    },
    {
     "name": "stderr",
     "output_type": "stream",
     "text": [
      "Epoch 22: 100%|██████████| 16/16 [02:32<00:00,  9.52s/it, loss=1.23]\n"
     ]
    },
    {
     "name": "stdout",
     "output_type": "stream",
     "text": [
      "Training set: Average loss: 1.173958\n",
      "Validation set: Average loss: 2.423302, Accuracy: 379/1000 (38%)\n",
      "\n",
      "Epoch 23/25\n",
      "Epoch: 23\n"
     ]
    },
    {
     "name": "stderr",
     "output_type": "stream",
     "text": [
      "Epoch 23: 100%|██████████| 16/16 [02:31<00:00,  9.45s/it, loss=1.19]\n"
     ]
    },
    {
     "name": "stdout",
     "output_type": "stream",
     "text": [
      "Training set: Average loss: 1.113268\n",
      "Validation set: Average loss: 2.507444, Accuracy: 347/1000 (35%)\n",
      "\n",
      "Epoch 24/25\n",
      "Epoch: 24\n"
     ]
    },
    {
     "name": "stderr",
     "output_type": "stream",
     "text": [
      "Epoch 24: 100%|██████████| 16/16 [02:31<00:00,  9.49s/it, loss=1.3] \n"
     ]
    },
    {
     "name": "stdout",
     "output_type": "stream",
     "text": [
      "Training set: Average loss: 1.134587\n",
      "Validation set: Average loss: 2.639186, Accuracy: 339/1000 (34%)\n",
      "\n",
      "Epoch 25/25\n",
      "Epoch: 25\n"
     ]
    },
    {
     "name": "stderr",
     "output_type": "stream",
     "text": [
      "Epoch 25: 100%|██████████| 16/16 [02:20<00:00,  8.78s/it, loss=1.09]\n"
     ]
    },
    {
     "name": "stdout",
     "output_type": "stream",
     "text": [
      "Training set: Average loss: 1.056720\n",
      "Validation set: Average loss: 2.610895, Accuracy: 365/1000 (36%)\n",
      "\n"
     ]
    },
    {
     "data": {
      "text/plain": [
       "<Figure size 1500x1500 with 1 Axes>"
      ],
      "image/png": "[encoded data removed]"
     },
     "metadata": {},
     "output_type": "display_data"
    }
   ],
   "execution_count": 5
  },
  {
   "metadata": {},
   "cell_type": "markdown",
   "source": "## Testing (performing predictions)",
   "id": "4356e6f893985d76"
  },
  {
   "metadata": {
    "ExecuteTime": {
     "end_time": "2025-01-24T11:36:08.147652Z",
     "start_time": "2025-01-24T11:34:49.816604Z"
    }
   },
   "cell_type": "code",
   "source": [
    "from TrainTestUtils import make_predictions, compute_accuracy\n",
    "\n",
    "#Testing\n",
    "print(\"Evaluating on the test set...\")\n",
    "truelabels, predictions = make_predictions(model, test_loader, device)\n",
    "\n",
    "# Compute and display accuracy\n",
    "accuracy = compute_accuracy(truelabels, predictions)\n",
    "print(f\"Test Set Accuracy: {accuracy:.2f}%\")"
   ],
   "id": "1cf7bd4e27f5e216",
   "outputs": [
    {
     "name": "stdout",
     "output_type": "stream",
     "text": [
      "Evaluating on the test set...\n",
      "Test Set Accuracy: 36.32%\n"
     ]
    }
   ],
   "execution_count": 6
  }
 ],
 "metadata": {
  "kernelspec": {
   "display_name": "Python 3",
   "language": "python",
   "name": "python3"
  },
  "language_info": {
   "codemirror_mode": {
    "name": "ipython",
    "version": 2
   },
   "file_extension": ".py",
   "mimetype": "text/x-python",
   "name": "python",
   "nbconvert_exporter": "python",
   "pygments_lexer": "ipython2",
   "version": "2.7.6"
  }
 },
 "nbformat": 4,
 "nbformat_minor": 5
}
