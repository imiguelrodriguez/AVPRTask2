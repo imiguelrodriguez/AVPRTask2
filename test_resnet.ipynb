{
 "cells": [
  {
   "metadata": {},
   "cell_type": "markdown",
   "source": "# Action Recognition with ResNet",
   "id": "8d5d76bcb5a281ac"
  },
  {
   "metadata": {
    "collapsed": true
   },
   "cell_type": "code",
   "outputs": [],
   "execution_count": null,
   "source": [
    "from torch.utils.data import DataLoader\n",
    "from main import Stanford40Dataset\n",
    "from torchvision import transforms\n",
    "import torch"
   ],
   "id": "initial_id"
  },
  {
   "metadata": {},
   "cell_type": "markdown",
   "source": "## Prepare image transformation and constants",
   "id": "170cb7222b28db79"
  },
  {
   "metadata": {
    "jupyter": {
     "is_executing": true
    },
    "ExecuteTime": {
     "end_time": "2024-12-26T12:26:41.748603200Z",
     "start_time": "2024-12-26T12:24:26.518275Z"
    }
   },
   "cell_type": "code",
   "source": [
    "# Transforms and constant definition\n",
    "# Define transformations (resize, normalization, etc.)\n",
    "transform = transforms.Compose([\n",
    "    transforms.RandomResizedCrop(224),\n",
    "    transforms.RandomHorizontalFlip(),\n",
    "    transforms.RandomApply([\n",
    "        transforms.ColorJitter(0.4, 0.4, 0.4, 0.1)], p=0.8\n",
    "    ),\n",
    "    transforms.RandomGrayscale(0.2),\n",
    "    transforms.ToTensor(),\n",
    "    transforms.Normalize((0.4914, 0.4822, 0.4465), (0.2023, 0.1994, 0.2010)),\n",
    "])\n",
    "\n",
    "# Paths to the image directory (data/train and data/test)\n",
    "data_dir = 'data'\n",
    "LR = 1e-3\n",
    "BATCH_SIZE = 196\n",
    "EPOCHS = 50\n",
    "TRAIN_SPLIT = 0.75\n",
    "VAL_SPLIT = 1 - TRAIN_SPLIT\n",
    "\n",
    "device = torch.device(\"cuda\" if torch.cuda.is_available() else \"cpu\")\n",
    "print(f\"Using device: {device}\")"
   ],
   "id": "a83debd373804b07",
   "outputs": [],
   "execution_count": null
  },
  {
   "metadata": {},
   "cell_type": "markdown",
   "source": "## Load dataset",
   "id": "68627b6091677ef0"
  },
  {
   "metadata": {},
   "cell_type": "code",
   "outputs": [],
   "execution_count": null,
   "source": [
    "from torch.utils.data import random_split\n",
    "\n",
    "# Instantiate the dataset and data loaders\n",
    "train_dataset = Stanford40Dataset(data_dir=data_dir, split='train', transform=transform)\n",
    "test_dataset = Stanford40Dataset(data_dir=data_dir, split='test', transform=transform)\n",
    "\n",
    "numTrainSamples = int(len(train_dataset) * TRAIN_SPLIT)\n",
    "numValSamples = int(len(train_dataset) * VAL_SPLIT)\n",
    "(trainData, valData) = random_split(train_dataset,\n",
    "                                    [numTrainSamples, numValSamples],\n",
    "                                    generator=torch.Generator().manual_seed(42))\n",
    "\n",
    "train_loader = DataLoader(trainData, batch_size=BATCH_SIZE, shuffle=True)\n",
    "test_loader = DataLoader(test_dataset, batch_size=BATCH_SIZE, shuffle=False)\n",
    "val_loader = DataLoader(valData, batch_size=BATCH_SIZE)\n"
   ],
   "id": "788b7654164b6a82"
  },
  {
   "metadata": {},
   "cell_type": "markdown",
   "source": "## Instantiate ResNet model",
   "id": "f65cf217bf60499a"
  },
  {
   "metadata": {},
   "cell_type": "code",
   "outputs": [],
   "execution_count": null,
   "source": [
    "from torch import optim, nn\n",
    "from CustomResNet import CustomResNet\n",
    "\n",
    "#Define model\n",
    "# Create an instance of the model class and allocate it to the device\n",
    "model = CustomResNet().to(device)\n",
    "\n",
    "print(model)\n",
    "\n",
    "optimizer = optim.Adam(model.parameters(), lr=LR)\n",
    "loss_criteria = nn.CrossEntropyLoss()\n"
   ],
   "id": "d1356f503702b568"
  },
  {
   "metadata": {},
   "cell_type": "markdown",
   "source": "## Training loop",
   "id": "30def57912918c"
  },
  {
   "metadata": {},
   "cell_type": "code",
   "outputs": [],
   "execution_count": null,
   "source": [
    "from TrainTestUtils import train, validate, plot_loss\n",
    "\n",
    "epoch_nums = []\n",
    "training_loss = []\n",
    "validation_loss = []\n",
    "\n",
    "for epoch in range(1, EPOCHS + 1):\n",
    "    print(f\"Epoch {epoch}/{EPOCHS}\")\n",
    "    # Call the train function\n",
    "    train_loss = train(model, device, loss_criteria, train_loader, optimizer, epoch)\n",
    "    # Call the validation function\n",
    "    val_loss = validate(model, device, loss_criteria, val_loader)\n",
    "\n",
    "    # Track losses and epochs\n",
    "    epoch_nums.append(epoch)\n",
    "    training_loss.append(train_loss)\n",
    "    validation_loss.append(val_loss)\n",
    "    \n",
    "plot_loss(epoch_nums, training_loss, validation_loss)"
   ],
   "id": "e192746cda557deb"
  },
  {
   "metadata": {},
   "cell_type": "markdown",
   "source": "## Testing (performing predictions)",
   "id": "4356e6f893985d76"
  },
  {
   "metadata": {},
   "cell_type": "code",
   "outputs": [],
   "execution_count": null,
   "source": [
    "from TrainTestUtils import make_predictions, compute_accuracy\n",
    "\n",
    "#Testing\n",
    "print(\"Evaluating on the test set...\")\n",
    "truelabels, predictions = make_predictions(model, test_loader, device)\n",
    "\n",
    "# Compute and display accuracy\n",
    "accuracy = compute_accuracy(truelabels, predictions)\n",
    "print(f\"Test Set Accuracy: {accuracy:.2f}%\")"
   ],
   "id": "1cf7bd4e27f5e216"
  }
 ],
 "metadata": {
  "kernelspec": {
   "display_name": "Python 3",
   "language": "python",
   "name": "python3"
  },
  "language_info": {
   "codemirror_mode": {
    "name": "ipython",
    "version": 2
   },
   "file_extension": ".py",
   "mimetype": "text/x-python",
   "name": "python",
   "nbconvert_exporter": "python",
   "pygments_lexer": "ipython2",
   "version": "2.7.6"
  }
 },
 "nbformat": 4,
 "nbformat_minor": 5
}
